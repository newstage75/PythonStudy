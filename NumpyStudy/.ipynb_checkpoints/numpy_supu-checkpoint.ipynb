{
 "cells": [
  {
   "cell_type": "code",
   "execution_count": 1,
   "id": "512774cc",
   "metadata": {},
   "outputs": [],
   "source": [
    "import numpy as np"
   ]
  },
  {
   "cell_type": "code",
   "execution_count": 2,
   "id": "79bcffe0",
   "metadata": {},
   "outputs": [],
   "source": [
    "x = np.array([10, 14, 19])"
   ]
  },
  {
   "cell_type": "code",
   "execution_count": 3,
   "id": "8714f329",
   "metadata": {},
   "outputs": [],
   "source": [
    "y = [10, 14, 19]"
   ]
  },
  {
   "cell_type": "code",
   "execution_count": 4,
   "id": "ea31b6b4",
   "metadata": {},
   "outputs": [
    {
     "name": "stdout",
     "output_type": "stream",
     "text": [
      "[10, 14, 19, 10, 14, 19]\n"
     ]
    }
   ],
   "source": [
    "y_2 = y*2\n",
    "print(y_2)"
   ]
  },
  {
   "cell_type": "code",
   "execution_count": 5,
   "id": "d0464b75",
   "metadata": {},
   "outputs": [
    {
     "name": "stdout",
     "output_type": "stream",
     "text": [
      "[20 28 38]\n"
     ]
    }
   ],
   "source": [
    "x_2 = x*2\n",
    "print(x_2)"
   ]
  },
  {
   "cell_type": "code",
   "execution_count": 7,
   "id": "68ded14f",
   "metadata": {},
   "outputs": [
    {
     "name": "stdout",
     "output_type": "stream",
     "text": [
      "[0. 0. 0.]\n",
      "[[1. 1. 1.]\n",
      " [1. 1. 1.]]\n"
     ]
    }
   ],
   "source": [
    "x1 = np.zeros(3)\n",
    "x2 = np.ones((2,3))\n",
    "\n",
    "print(x1)\n",
    "print(x2)"
   ]
  },
  {
   "cell_type": "code",
   "execution_count": 8,
   "id": "d61546db",
   "metadata": {},
   "outputs": [],
   "source": [
    "x3 = np.random.rand(2, 3)"
   ]
  },
  {
   "cell_type": "code",
   "execution_count": 9,
   "id": "a6fe723e",
   "metadata": {},
   "outputs": [
    {
     "name": "stdout",
     "output_type": "stream",
     "text": [
      "[[0.05741088 0.82181383 0.31318222]\n",
      " [0.56933904 0.49781134 0.54679554]]\n"
     ]
    }
   ],
   "source": [
    "print(x3)"
   ]
  },
  {
   "cell_type": "code",
   "execution_count": 11,
   "id": "b720eceb",
   "metadata": {},
   "outputs": [
    {
     "name": "stdout",
     "output_type": "stream",
     "text": [
      "[[0.05741088 0.82181383]\n",
      " [0.31318222 0.56933904]\n",
      " [0.49781134 0.54679554]]\n"
     ]
    }
   ],
   "source": [
    "x4 = x3.reshape((3,2))\n",
    "print(x4)"
   ]
  },
  {
   "cell_type": "code",
   "execution_count": 12,
   "id": "86e89649",
   "metadata": {},
   "outputs": [
    {
     "name": "stdout",
     "output_type": "stream",
     "text": [
      "[0.05741088 0.82181383 0.31318222 0.56933904 0.49781134 0.54679554]\n"
     ]
    }
   ],
   "source": [
    "x5 = x4.flatten()\n",
    "print(x5)"
   ]
  },
  {
   "cell_type": "code",
   "execution_count": null,
   "id": "38e7b35a",
   "metadata": {},
   "outputs": [],
   "source": []
  }
 ],
 "metadata": {
  "kernelspec": {
   "display_name": "Python 3 (ipykernel)",
   "language": "python",
   "name": "python3"
  },
  "language_info": {
   "codemirror_mode": {
    "name": "ipython",
    "version": 3
   },
   "file_extension": ".py",
   "mimetype": "text/x-python",
   "name": "python",
   "nbconvert_exporter": "python",
   "pygments_lexer": "ipython3",
   "version": "3.9.7"
  }
 },
 "nbformat": 4,
 "nbformat_minor": 5
}
