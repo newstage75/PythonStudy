{
 "cells": [
  {
   "cell_type": "code",
   "execution_count": 1,
   "id": "ad27d63c",
   "metadata": {},
   "outputs": [],
   "source": [
    "import numpy as np"
   ]
  },
  {
   "cell_type": "code",
   "execution_count": 2,
   "id": "337e272a",
   "metadata": {},
   "outputs": [],
   "source": [
    "x = np.array([10, 14, 19])"
   ]
  },
  {
   "cell_type": "code",
   "execution_count": 3,
   "id": "4a9ffae5",
   "metadata": {},
   "outputs": [],
   "source": [
    "y = [10, 14, 19]"
   ]
  },
  {
   "cell_type": "code",
   "execution_count": 4,
   "id": "703177d0",
   "metadata": {},
   "outputs": [
    {
     "name": "stdout",
     "output_type": "stream",
     "text": [
      "[10, 14, 19, 10, 14, 19]\n"
     ]
    }
   ],
   "source": [
    "y_2 = y*2\n",
    "print(y_2)"
   ]
  },
  {
   "cell_type": "code",
   "execution_count": 5,
   "id": "67f0b29a",
   "metadata": {},
   "outputs": [
    {
     "name": "stdout",
     "output_type": "stream",
     "text": [
      "[20 28 38]\n"
     ]
    }
   ],
   "source": [
    "x_2 = x*2\n",
    "print(x_2)"
   ]
  },
  {
   "cell_type": "code",
   "execution_count": 7,
   "id": "455700e6",
   "metadata": {},
   "outputs": [
    {
     "name": "stdout",
     "output_type": "stream",
     "text": [
      "[0. 0. 0.]\n",
      "[[1. 1. 1.]\n",
      " [1. 1. 1.]]\n"
     ]
    }
   ],
   "source": [
    "x1 = np.zeros(3)\n",
    "x2 = np.ones((2,3))\n",
    "\n",
    "print(x1)\n",
    "print(x2)"
   ]
  },
  {
   "cell_type": "code",
   "execution_count": 8,
   "id": "e25750b6",
   "metadata": {},
   "outputs": [],
   "source": [
    "x3 = np.random.rand(2, 3)"
   ]
  },
  {
   "cell_type": "code",
   "execution_count": 9,
   "id": "4483b3c7",
   "metadata": {},
   "outputs": [
    {
     "name": "stdout",
     "output_type": "stream",
     "text": [
      "[[0.05741088 0.82181383 0.31318222]\n",
      " [0.56933904 0.49781134 0.54679554]]\n"
     ]
    }
   ],
   "source": [
    "print(x3)"
   ]
  },
  {
   "cell_type": "code",
   "execution_count": null,
   "id": "d7b6896d",
   "metadata": {},
   "outputs": [],
   "source": []
  }
 ],
 "metadata": {
  "kernelspec": {
   "display_name": "Python 3 (ipykernel)",
   "language": "python",
   "name": "python3"
  },
  "language_info": {
   "codemirror_mode": {
    "name": "ipython",
    "version": 3
   },
   "file_extension": ".py",
   "mimetype": "text/x-python",
   "name": "python",
   "nbconvert_exporter": "python",
   "pygments_lexer": "ipython3",
   "version": "3.9.7"
  }
 },
 "nbformat": 4,
 "nbformat_minor": 5
}
