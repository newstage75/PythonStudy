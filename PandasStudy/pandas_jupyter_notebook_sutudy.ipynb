{
 "cells": [
  {
   "cell_type": "code",
   "execution_count": 22,
   "id": "3580199e",
   "metadata": {},
   "outputs": [
    {
     "data": {
      "text/html": [
       "<div>\n",
       "<style scoped>\n",
       "    .dataframe tbody tr th:only-of-type {\n",
       "        vertical-align: middle;\n",
       "    }\n",
       "\n",
       "    .dataframe tbody tr th {\n",
       "        vertical-align: top;\n",
       "    }\n",
       "\n",
       "    .dataframe thead th {\n",
       "        text-align: right;\n",
       "    }\n",
       "</style>\n",
       "<table border=\"1\" class=\"dataframe\">\n",
       "  <thead>\n",
       "    <tr style=\"text-align: right;\">\n",
       "      <th></th>\n",
       "      <th>ユーザーID</th>\n",
       "      <th>年齢</th>\n",
       "      <th>住所</th>\n",
       "      <th>血液型</th>\n",
       "      <th>レベル</th>\n",
       "      <th>ポイント</th>\n",
       "    </tr>\n",
       "  </thead>\n",
       "  <tbody>\n",
       "    <tr>\n",
       "      <th>0</th>\n",
       "      <td>佐藤</td>\n",
       "      <td>21.0</td>\n",
       "      <td>東京都</td>\n",
       "      <td>O</td>\n",
       "      <td>6.0</td>\n",
       "      <td>2900.0</td>\n",
       "    </tr>\n",
       "    <tr>\n",
       "      <th>1</th>\n",
       "      <td>斉藤</td>\n",
       "      <td>30.0</td>\n",
       "      <td>埼玉県</td>\n",
       "      <td>A</td>\n",
       "      <td>7.0</td>\n",
       "      <td>3400.0</td>\n",
       "    </tr>\n",
       "    <tr>\n",
       "      <th>2</th>\n",
       "      <td>鈴木</td>\n",
       "      <td>45.0</td>\n",
       "      <td>岐阜県</td>\n",
       "      <td>AB</td>\n",
       "      <td>5.0</td>\n",
       "      <td>2500.0</td>\n",
       "    </tr>\n",
       "    <tr>\n",
       "      <th>3</th>\n",
       "      <td>田中</td>\n",
       "      <td>16.0</td>\n",
       "      <td>大阪府</td>\n",
       "      <td>O</td>\n",
       "      <td>9.0</td>\n",
       "      <td>5100.0</td>\n",
       "    </tr>\n",
       "  </tbody>\n",
       "</table>\n",
       "</div>"
      ],
      "text/plain": [
       "  ユーザーID    年齢   住所 血液型  レベル    ポイント\n",
       "0     佐藤  21.0  東京都   O  6.0  2900.0\n",
       "1     斉藤  30.0  埼玉県   A  7.0  3400.0\n",
       "2     鈴木  45.0  岐阜県  AB  5.0  2500.0\n",
       "3     田中  16.0  大阪府   O  9.0  5100.0"
      ]
     },
     "metadata": {},
     "output_type": "display_data"
    }
   ],
   "source": [
    "import pandas as pd\n",
    "\n",
    "df = pd.read_excel('user_data.xlsx')\n",
    "display(df)"
   ]
  },
  {
   "cell_type": "code",
   "execution_count": 23,
   "id": "40684bfa",
   "metadata": {},
   "outputs": [
    {
     "data": {
      "text/html": [
       "<div>\n",
       "<style scoped>\n",
       "    .dataframe tbody tr th:only-of-type {\n",
       "        vertical-align: middle;\n",
       "    }\n",
       "\n",
       "    .dataframe tbody tr th {\n",
       "        vertical-align: top;\n",
       "    }\n",
       "\n",
       "    .dataframe thead th {\n",
       "        text-align: right;\n",
       "    }\n",
       "</style>\n",
       "<table border=\"1\" class=\"dataframe\">\n",
       "  <thead>\n",
       "    <tr style=\"text-align: right;\">\n",
       "      <th></th>\n",
       "      <th>ユーザーID</th>\n",
       "      <th>住所</th>\n",
       "    </tr>\n",
       "  </thead>\n",
       "  <tbody>\n",
       "    <tr>\n",
       "      <th>0</th>\n",
       "      <td>佐藤</td>\n",
       "      <td>東京都</td>\n",
       "    </tr>\n",
       "    <tr>\n",
       "      <th>1</th>\n",
       "      <td>斉藤</td>\n",
       "      <td>埼玉県</td>\n",
       "    </tr>\n",
       "    <tr>\n",
       "      <th>2</th>\n",
       "      <td>鈴木</td>\n",
       "      <td>岐阜県</td>\n",
       "    </tr>\n",
       "  </tbody>\n",
       "</table>\n",
       "</div>"
      ],
      "text/plain": [
       "  ユーザーID   住所\n",
       "0     佐藤  東京都\n",
       "1     斉藤  埼玉県\n",
       "2     鈴木  岐阜県"
      ]
     },
     "execution_count": 23,
     "metadata": {},
     "output_type": "execute_result"
    }
   ],
   "source": [
    "df.loc[0:2,['ユーザーID','住所']]"
   ]
  },
  {
   "cell_type": "code",
   "execution_count": 24,
   "id": "1e9e5352",
   "metadata": {},
   "outputs": [
    {
     "data": {
      "text/html": [
       "<div>\n",
       "<style scoped>\n",
       "    .dataframe tbody tr th:only-of-type {\n",
       "        vertical-align: middle;\n",
       "    }\n",
       "\n",
       "    .dataframe tbody tr th {\n",
       "        vertical-align: top;\n",
       "    }\n",
       "\n",
       "    .dataframe thead th {\n",
       "        text-align: right;\n",
       "    }\n",
       "</style>\n",
       "<table border=\"1\" class=\"dataframe\">\n",
       "  <thead>\n",
       "    <tr style=\"text-align: right;\">\n",
       "      <th></th>\n",
       "      <th>ユーザーID</th>\n",
       "      <th>年齢</th>\n",
       "      <th>住所</th>\n",
       "      <th>血液型</th>\n",
       "      <th>レベル</th>\n",
       "      <th>ポイント</th>\n",
       "    </tr>\n",
       "  </thead>\n",
       "  <tbody>\n",
       "    <tr>\n",
       "      <th>0</th>\n",
       "      <td>佐藤</td>\n",
       "      <td>21.0</td>\n",
       "      <td>東京都</td>\n",
       "      <td>O</td>\n",
       "      <td>6.0</td>\n",
       "      <td>2900.0</td>\n",
       "    </tr>\n",
       "  </tbody>\n",
       "</table>\n",
       "</div>"
      ],
      "text/plain": [
       "  ユーザーID    年齢   住所 血液型  レベル    ポイント\n",
       "0     佐藤  21.0  東京都   O  6.0  2900.0"
      ]
     },
     "execution_count": 24,
     "metadata": {},
     "output_type": "execute_result"
    }
   ],
   "source": [
    "df[(df['血液型'] == 'O')&(df['年齢'] >= 20)]"
   ]
  },
  {
   "cell_type": "code",
   "execution_count": 25,
   "id": "b63d265c",
   "metadata": {},
   "outputs": [
    {
     "data": {
      "text/plain": [
       "0    17400.0\n",
       "1    23800.0\n",
       "2    12500.0\n",
       "3    45900.0\n",
       "dtype: float64"
      ]
     },
     "execution_count": 25,
     "metadata": {},
     "output_type": "execute_result"
    }
   ],
   "source": [
    "df['レベル'] * df['ポイント']"
   ]
  },
  {
   "cell_type": "code",
   "execution_count": 28,
   "id": "360c4a74",
   "metadata": {},
   "outputs": [],
   "source": [
    "df['新ポイント'] = df['レベル'] * df['ポイント']"
   ]
  },
  {
   "cell_type": "code",
   "execution_count": 29,
   "id": "fc06b726",
   "metadata": {},
   "outputs": [
    {
     "data": {
      "text/html": [
       "<div>\n",
       "<style scoped>\n",
       "    .dataframe tbody tr th:only-of-type {\n",
       "        vertical-align: middle;\n",
       "    }\n",
       "\n",
       "    .dataframe tbody tr th {\n",
       "        vertical-align: top;\n",
       "    }\n",
       "\n",
       "    .dataframe thead th {\n",
       "        text-align: right;\n",
       "    }\n",
       "</style>\n",
       "<table border=\"1\" class=\"dataframe\">\n",
       "  <thead>\n",
       "    <tr style=\"text-align: right;\">\n",
       "      <th></th>\n",
       "      <th>ユーザーID</th>\n",
       "      <th>年齢</th>\n",
       "      <th>住所</th>\n",
       "      <th>血液型</th>\n",
       "      <th>レベル</th>\n",
       "      <th>ポイント</th>\n",
       "      <th>新ポイント</th>\n",
       "    </tr>\n",
       "  </thead>\n",
       "  <tbody>\n",
       "    <tr>\n",
       "      <th>0</th>\n",
       "      <td>佐藤</td>\n",
       "      <td>21.0</td>\n",
       "      <td>東京都</td>\n",
       "      <td>O</td>\n",
       "      <td>6.0</td>\n",
       "      <td>2900.0</td>\n",
       "      <td>17400.0</td>\n",
       "    </tr>\n",
       "    <tr>\n",
       "      <th>1</th>\n",
       "      <td>斉藤</td>\n",
       "      <td>30.0</td>\n",
       "      <td>埼玉県</td>\n",
       "      <td>A</td>\n",
       "      <td>7.0</td>\n",
       "      <td>3400.0</td>\n",
       "      <td>23800.0</td>\n",
       "    </tr>\n",
       "    <tr>\n",
       "      <th>2</th>\n",
       "      <td>鈴木</td>\n",
       "      <td>45.0</td>\n",
       "      <td>岐阜県</td>\n",
       "      <td>AB</td>\n",
       "      <td>5.0</td>\n",
       "      <td>2500.0</td>\n",
       "      <td>12500.0</td>\n",
       "    </tr>\n",
       "    <tr>\n",
       "      <th>3</th>\n",
       "      <td>田中</td>\n",
       "      <td>16.0</td>\n",
       "      <td>大阪府</td>\n",
       "      <td>O</td>\n",
       "      <td>9.0</td>\n",
       "      <td>5100.0</td>\n",
       "      <td>45900.0</td>\n",
       "    </tr>\n",
       "  </tbody>\n",
       "</table>\n",
       "</div>"
      ],
      "text/plain": [
       "  ユーザーID    年齢   住所 血液型  レベル    ポイント    新ポイント\n",
       "0     佐藤  21.0  東京都   O  6.0  2900.0  17400.0\n",
       "1     斉藤  30.0  埼玉県   A  7.0  3400.0  23800.0\n",
       "2     鈴木  45.0  岐阜県  AB  5.0  2500.0  12500.0\n",
       "3     田中  16.0  大阪府   O  9.0  5100.0  45900.0"
      ]
     },
     "metadata": {},
     "output_type": "display_data"
    }
   ],
   "source": [
    "display(df)"
   ]
  },
  {
   "cell_type": "code",
   "execution_count": null,
   "id": "2e022743",
   "metadata": {},
   "outputs": [],
   "source": []
  }
 ],
 "metadata": {
  "kernelspec": {
   "display_name": "Python 3 (ipykernel)",
   "language": "python",
   "name": "python3"
  },
  "language_info": {
   "codemirror_mode": {
    "name": "ipython",
    "version": 3
   },
   "file_extension": ".py",
   "mimetype": "text/x-python",
   "name": "python",
   "nbconvert_exporter": "python",
   "pygments_lexer": "ipython3",
   "version": "3.9.7"
  }
 },
 "nbformat": 4,
 "nbformat_minor": 5
}
